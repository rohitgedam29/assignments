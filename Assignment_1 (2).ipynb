{
 "cells": [
  {
   "cell_type": "code",
   "execution_count": null,
   "id": "bece3c2a",
   "metadata": {},
   "outputs": [],
   "source": [
    "Que-1   In the below elements which of them are values or an expression? example- values can be integers or string and \n",
    "        expression will be mathematical operators\n",
    "        * , 'hello' , -87.8 , - , / , + , 6\n",
    "        \n",
    "        \n",
    "ANS -   Values     = 'hello' , -87.8 , 6\n",
    "        Expression =   *  , - , / , +"
   ]
  },
  {
   "cell_type": "code",
   "execution_count": null,
   "id": "18dd5d3d",
   "metadata": {},
   "outputs": [],
   "source": [
    "Que-2  What is the difference between  String & Variable ?\n",
    "\n",
    "Ans -  String is a datatype used to store characters or alphabets.\n",
    "       for example - \"Ineuron\" \n",
    "       \n",
    "        variable is a reserved memory location to store values. It can be used for all the datatypes\n",
    "        for Example - a = 30 ,    here a is a variable\n",
    "                      b = \"hello\"  here b is a variable and \"hello\" is a string.\n",
    "    "
   ]
  },
  {
   "cell_type": "code",
   "execution_count": null,
   "id": "b7ffd22a",
   "metadata": {},
   "outputs": [],
   "source": [
    "Que 3  Describe 3 different Datatypes?\n",
    "\n",
    "Ans -  1. int - int data type is used to store real numbers.\n",
    "          example - a = 29  \n",
    "    \n",
    "       2. float - float datatype is usede to store floating point number or decimal numbers.\n",
    "         example  - b = 98.3\n",
    "            \n",
    "       3 .Boolean - Boolean datatype has one one of the two truth values of a logic.\n",
    "         either True or False\n",
    "         \n",
    "    "
   ]
  },
  {
   "cell_type": "code",
   "execution_count": null,
   "id": "b254b343",
   "metadata": {},
   "outputs": [],
   "source": [
    "Que 4  What is an Expression made up of? What do all expressions do?\n",
    "\n",
    "Ans    Expression is a combination of operators and operands that is interpreted to produce some value\n",
    "\n",
    "       Example -  a = 200+300 \n",
    "                \n",
    "                here 200 and 300 are two operands and + is a operator\n",
    "                and this whole thing in combine is called as Expression.\n",
    "                \n",
    "                \n",
    "                \n",
    "                \n",
    "                "
   ]
  },
  {
   "cell_type": "code",
   "execution_count": null,
   "id": "13f273ae",
   "metadata": {},
   "outputs": [],
   "source": [
    "Que 5  This assignment statement , like spam = 10. What is the difference between an expression and a statement?\n",
    "\n",
    "Ans    Expression is a combination of operator and operands which produces some value as a result.\n",
    "       example a =  2*3 (arithmetic expression)\n",
    "       \n",
    "       while Statement is simple a combination of a variable and value assigned to it.\n",
    "       example a = 10 here value 10 has been assigned to a an example of Assignment statement\n",
    "       "
   ]
  },
  {
   "cell_type": "code",
   "execution_count": null,
   "id": "5b3dca88",
   "metadata": {},
   "outputs": [],
   "source": [
    "Que 6  After Running the following code what does the variable bacon contain?\n",
    "       bacon = 22\n",
    "       bacon+1\n",
    "       \n",
    "Ans  -  bacon = 23 after running the above code\n",
    "        "
   ]
  },
  {
   "cell_type": "code",
   "execution_count": 6,
   "id": "ee16ee9e",
   "metadata": {},
   "outputs": [
    {
     "data": {
      "text/plain": [
       "23"
      ]
     },
     "execution_count": 6,
     "metadata": {},
     "output_type": "execute_result"
    }
   ],
   "source": [
    "bacon = 22\n",
    "bacon+1"
   ]
  },
  {
   "cell_type": "code",
   "execution_count": null,
   "id": "ece11910",
   "metadata": {},
   "outputs": [],
   "source": [
    "Que 7  What should be the values of following 2 terms?\n",
    "        'spam'+'spamspam'\n",
    "         'spam'*3\n",
    "   \n",
    "   \n",
    "Ans -  'spamspamspam'    will be the  output for both the operations.\n",
    "        as shown below\n",
    "         \n",
    "         "
   ]
  },
  {
   "cell_type": "code",
   "execution_count": 8,
   "id": "2403c6e0",
   "metadata": {},
   "outputs": [
    {
     "data": {
      "text/plain": [
       "'spamspamspam'"
      ]
     },
     "execution_count": 8,
     "metadata": {},
     "output_type": "execute_result"
    }
   ],
   "source": [
    "'spam'+'spamspam'"
   ]
  },
  {
   "cell_type": "code",
   "execution_count": 10,
   "id": "52eab014",
   "metadata": {},
   "outputs": [
    {
     "data": {
      "text/plain": [
       "'spamspamspam'"
      ]
     },
     "execution_count": 10,
     "metadata": {},
     "output_type": "execute_result"
    }
   ],
   "source": [
    "'spam'*3"
   ]
  },
  {
   "cell_type": "code",
   "execution_count": null,
   "id": "f211f5dc",
   "metadata": {},
   "outputs": [],
   "source": [
    "Que 8   why eggs a valid variable name while 100 is invalid?\n",
    "\n",
    "Ans -  eggs is valid variable name while 100 is invalid because a variable name can only start with an Alphabet or with \n",
    "       underscore(_). Variable name cannot start with a digit and spaces are also not allowed. "
   ]
  },
  {
   "cell_type": "code",
   "execution_count": null,
   "id": "7350cb67",
   "metadata": {},
   "outputs": [],
   "source": [
    "Que 9   What 3 functions can be used to get the integer , floating point number or String version of a value  ?\n",
    "\n",
    "Ans    int()   function can be used to get integer\n",
    "       float() function can be used to get floating point number\n",
    "       str()   function can be used to get string version of a value"
   ]
  },
  {
   "cell_type": "code",
   "execution_count": null,
   "id": "e44de5d4",
   "metadata": {},
   "outputs": [],
   "source": [
    "Que 10  Why does this expression cause an error and how can you fix it\n",
    "        'i have eaten'+99+ 'burritos'\n",
    "        \n",
    "ANS  This expression cause an error because 99 is an integer and only strings can be concatenated to other string with the\n",
    "      + operator.\n",
    "      to resolve this problem we can convert the integer into string using str(99).\n",
    "      "
   ]
  },
  {
   "cell_type": "code",
   "execution_count": 12,
   "id": "8582203f",
   "metadata": {},
   "outputs": [
    {
     "data": {
      "text/plain": [
       "'i have eaten 99 burritos'"
      ]
     },
     "execution_count": 12,
     "metadata": {},
     "output_type": "execute_result"
    }
   ],
   "source": [
    "'i have eaten '+ str(99) +' burritos'"
   ]
  }
 ],
 "metadata": {
  "kernelspec": {
   "display_name": "Python 3 (ipykernel)",
   "language": "python",
   "name": "python3"
  },
  "language_info": {
   "codemirror_mode": {
    "name": "ipython",
    "version": 3
   },
   "file_extension": ".py",
   "mimetype": "text/x-python",
   "name": "python",
   "nbconvert_exporter": "python",
   "pygments_lexer": "ipython3",
   "version": "3.9.7"
  }
 },
 "nbformat": 4,
 "nbformat_minor": 5
}
